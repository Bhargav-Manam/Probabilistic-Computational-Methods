{
 "cells": [
  {
   "cell_type": "markdown",
   "id": "49b97bfd-cbdf-484f-9ecf-37b2399185d9",
   "metadata": {},
   "source": [
    "# Probabilistic Numerical Methods\n",
    "## Homework-1\n",
    "### I) 1. Random Number Generator"
   ]
  },
  {
   "cell_type": "code",
   "execution_count": 1,
   "id": "ff12f957-a23d-4150-88cb-0c12a29d0c38",
   "metadata": {
    "scrolled": true,
    "tags": []
   },
   "outputs": [
    {
     "data": {
      "text/plain": [
       "[21.906249882596285,\n",
       " 20.50614376571922,\n",
       " 10.30812841208671,\n",
       " 25.358483490923447,\n",
       " 25.466759320694788,\n",
       " 24.318258861177448,\n",
       " 17.26787971853736,\n",
       " 25.147708532945963,\n",
       " 10.619646059484896,\n",
       " 20.97706545356424,\n",
       " 11.78356251570115,\n",
       " 15.014885056099029,\n",
       " 18.582971534106175,\n",
       " 15.660003934227314,\n",
       " 15.277905583402704,\n",
       " 16.698574994762804,\n",
       " 17.245228442399302,\n",
       " 12.463812329904837,\n",
       " 28.81244534090522,\n",
       " 23.104011336247062]"
      ]
     },
     "execution_count": 1,
     "metadata": {},
     "output_type": "execute_result"
    }
   ],
   "source": [
    "# Simulating some realizations of random generator\n",
    "# Generating 20 random numbers between 10 and 30\n",
    "import random as rnd\n",
    "random_sample_1 = []\n",
    "for i in range(20):\n",
    "  n = rnd.uniform(10,30)\n",
    "  random_sample_1.append(n)\n",
    "random_sample_1"
   ]
  },
  {
   "cell_type": "code",
   "execution_count": 2,
   "id": "647e7f99-c9b8-4608-80ad-648123c58bf6",
   "metadata": {
    "scrolled": true,
    "tags": []
   },
   "outputs": [
    {
     "data": {
      "text/plain": [
       "[21.518853324986324,\n",
       " 11.473937046401161,\n",
       " 19.508119866657847,\n",
       " 29.488707503223715,\n",
       " 10.594972581309413,\n",
       " 15.254661499851164,\n",
       " 19.854759470710732,\n",
       " 17.923050904945562,\n",
       " 12.59708104005796,\n",
       " 23.088790414631255,\n",
       " 11.260005038799765,\n",
       " 23.52018344488799,\n",
       " 19.581200649812544,\n",
       " 12.652498431353402,\n",
       " 15.834714826259972,\n",
       " 22.90710165543807,\n",
       " 10.902486970418996,\n",
       " 12.57367387376744,\n",
       " 18.510001955443183,\n",
       " 28.80827181946009]"
      ]
     },
     "execution_count": 2,
     "metadata": {},
     "output_type": "execute_result"
    }
   ],
   "source": [
    "# Again simulating different set of random numbers using random generator\n",
    "# Generating 20 random numbers between 10 and 30\n",
    "random_sample_2 = []\n",
    "for i in range(20):\n",
    "  n = rnd.uniform(10,30)\n",
    "  random_sample_2.append(n)\n",
    "random_sample_2"
   ]
  },
  {
   "cell_type": "markdown",
   "id": "56dc6950-3230-4482-8ef6-5574d67bc390",
   "metadata": {},
   "source": [
    "> **COMMENT-**\n",
    "    It is evident that there is no co-relation between above generated two sample sets (random_sample_1, random_sample_2) and they appear to be completely random."
   ]
  },
  {
   "cell_type": "code",
   "execution_count": 3,
   "id": "decc14cc-fe8b-44f9-b3be-55caefa16b54",
   "metadata": {
    "tags": []
   },
   "outputs": [
    {
     "data": {
      "text/plain": [
       "[25.54713285401128,\n",
       " 23.396511191184995,\n",
       " 11.98279207849634,\n",
       " 17.059410223802907,\n",
       " 19.35815485801684,\n",
       " 20.69367482941755,\n",
       " 29.566181218247948,\n",
       " 12.60630700317318,\n",
       " 23.424869364605325,\n",
       " 17.284588318947513,\n",
       " 19.776714143239715,\n",
       " 14.060244214681074,\n",
       " 23.323967511427185,\n",
       " 14.553260624138641,\n",
       " 19.161281165935264,\n",
       " 10.81444795109915,\n",
       " 29.48579590755657,\n",
       " 19.749521485378132,\n",
       " 19.232277272747194,\n",
       " 24.282943116164006]"
      ]
     },
     "execution_count": 3,
     "metadata": {},
     "output_type": "execute_result"
    }
   ],
   "source": [
    "# Simulating some realizations of random generator by fixing the seed value as 1000\n",
    "# Generating 20 random numbers between 10 and 30\n",
    "random_sample_3 = []\n",
    "rnd.seed(1000)\n",
    "for i in range(20):\n",
    "  n = rnd.uniform(10,30)\n",
    "  random_sample_3.append(n)\n",
    "random_sample_3"
   ]
  },
  {
   "cell_type": "code",
   "execution_count": 4,
   "id": "9917acb5-1c5b-4a33-9fc3-747a278107c2",
   "metadata": {
    "tags": []
   },
   "outputs": [
    {
     "data": {
      "text/plain": [
       "[25.54713285401128,\n",
       " 23.396511191184995,\n",
       " 11.98279207849634,\n",
       " 17.059410223802907,\n",
       " 19.35815485801684,\n",
       " 20.69367482941755,\n",
       " 29.566181218247948,\n",
       " 12.60630700317318,\n",
       " 23.424869364605325,\n",
       " 17.284588318947513,\n",
       " 19.776714143239715,\n",
       " 14.060244214681074,\n",
       " 23.323967511427185,\n",
       " 14.553260624138641,\n",
       " 19.161281165935264,\n",
       " 10.81444795109915,\n",
       " 29.48579590755657,\n",
       " 19.749521485378132,\n",
       " 19.232277272747194,\n",
       " 24.282943116164006]"
      ]
     },
     "execution_count": 4,
     "metadata": {},
     "output_type": "execute_result"
    }
   ],
   "source": [
    "# Simulating again some realizations of random generator by fixing the seed value as 1000 (same as before)\n",
    "# Generating 20 random numbers between 10 and 30\n",
    "random_sample_4 = []\n",
    "rnd.seed(1000)\n",
    "for i in range(20):\n",
    "  n = rnd.uniform(10,30)\n",
    "  random_sample_4.append(n)\n",
    "random_sample_4"
   ]
  },
  {
   "cell_type": "code",
   "execution_count": 5,
   "id": "1ae20435-901e-4825-bcd7-a4d1f457391b",
   "metadata": {
    "tags": []
   },
   "outputs": [
    {
     "data": {
      "text/plain": [
       "[18.96914035821057,\n",
       " 28.94327428468175,\n",
       " 19.489466540151703,\n",
       " 25.36465955298137,\n",
       " 25.81804569999036,\n",
       " 28.682023115766356,\n",
       " 15.081154660056557,\n",
       " 25.918416854846306,\n",
       " 21.49232680153613,\n",
       " 12.779539939714255,\n",
       " 25.107094854101213,\n",
       " 13.757990423017867,\n",
       " 26.39688069394593,\n",
       " 12.920816024311923,\n",
       " 23.156436177640764,\n",
       " 24.2715193832855,\n",
       " 16.876339096231685,\n",
       " 18.470473413811263,\n",
       " 29.308699523064156,\n",
       " 14.127877463713634]"
      ]
     },
     "execution_count": 5,
     "metadata": {},
     "output_type": "execute_result"
    }
   ],
   "source": [
    "# Simulating some realizations of random generator by fixing the seed value as 2000\n",
    "# Generating 20 random numbers between 10 and 30\n",
    "random_sample_5 = []\n",
    "rnd.seed(2000)\n",
    "for i in range(20):\n",
    "  n = rnd.uniform(10,30)\n",
    "  random_sample_5.append(n)\n",
    "random_sample_5"
   ]
  },
  {
   "cell_type": "markdown",
   "id": "d8ff0ac4-25f9-4295-8e9b-8a27934af3cf",
   "metadata": {},
   "source": [
    "> **COMMENT-**\n",
    "    From above three samples it is evident that Random Number Generator generates the same set of random numbers if we use same seed value and different set of random numbers for different seed values."
   ]
  },
  {
   "cell_type": "markdown",
   "id": "bae71951-92da-4355-93ec-3f8f336a1359",
   "metadata": {},
   "source": [
    "### I) 2. Quality of Random Number Generator\n",
    "#### i) Plotting the Empirical Cumulative Distribution Function for random_sample_1"
   ]
  },
  {
   "cell_type": "code",
   "execution_count": 6,
   "id": "6b18c7df-7791-4b5e-a537-af40f08d3dc9",
   "metadata": {},
   "outputs": [
    {
     "name": "stdout",
     "output_type": "stream",
     "text": [
      "P(x<=15): 0.200\n",
      "P(x<=20): 0.550\n",
      "P(x<=25): 0.800\n",
      "P(x<=28): 0.950\n"
     ]
    },
    {
     "data": {
      "image/png": "[encoded data removed]",
      "text/plain": [
       "<Figure size 432x288 with 1 Axes>"
      ]
     },
     "metadata": {
      "needs_background": "light"
     },
     "output_type": "display_data"
    }
   ],
   "source": [
    "import numpy as np\n",
    "from statsmodels.distributions.empirical_distribution import ECDF\n",
    "from matplotlib import pyplot\n",
    "ecdf = ECDF(random_sample_1)\n",
    "# Printing intermediate cdf's\n",
    "print('P(x<=15): %.3f' % ecdf(15))\n",
    "print('P(x<=20): %.3f' % ecdf(20))\n",
    "print('P(x<=25): %.3f' % ecdf(25))\n",
    "print('P(x<=28): %.3f' % ecdf(28))\n",
    "pyplot.plot(ecdf.x, ecdf.y)\n",
    "pyplot.xlabel('X')\n",
    "pyplot.ylabel('P(X<=t)')\n",
    "pyplot.title(\"Empirical Cumulative Distribution Function for random_sample_1\")\n",
    "pyplot.show()"
   ]
  },
  {
   "cell_type": "markdown",
   "id": "ad39ed20-d0c6-406d-b641-e6d1874c6e95",
   "metadata": {},
   "source": [
    "#### ii) Plotting the Inverse Empirical Cumulative Distribution Function for random_sample_1"
   ]
  },
  {
   "cell_type": "code",
   "execution_count": 7,
   "id": "cce468ad-436f-4b4c-a6e3-f03a7e39a04e",
   "metadata": {},
   "outputs": [
    {
     "name": "stdout",
     "output_type": "stream",
     "text": [
      "30 percentile: 15.277905583402704\n",
      "60 percentile: 20.50614376571922\n",
      "75 percentile: 23.104011336247062\n",
      "80 percentile: 24.31825886117745\n"
     ]
    },
    {
     "data": {
      "text/plain": [
       "Text(0.5, 1.0, 'Inverse Empirical Cumulative Distribution Function for random_sample_1')"
      ]
     },
     "execution_count": 7,
     "metadata": {},
     "output_type": "execute_result"
    },
    {
     "data": {
      "image/png": "[encoded data removed]",
      "text/plain": [
       "<Figure size 432x288 with 1 Axes>"
      ]
     },
     "metadata": {
      "needs_background": "light"
     },
     "output_type": "display_data"
    }
   ],
   "source": [
    "from scipy.interpolate import interp1d\n",
    "# Ordering the Sample\n",
    "Ordered_Sample = sorted(set(random_sample_1))\n",
    "# Assigning Cumulative Probability Distribution to the Ordered Sample (P<=X)\n",
    "Ecdf_Value = [ ecdf(item) for item in Ordered_Sample]\n",
    "inverted_edf = interp1d(Ecdf_Value, Ordered_Sample)\n",
    "x = np.linspace(0.1, 1, num=20)\n",
    "y = inverted_edf(x)\n",
    "# Finding the respective value of random number for given percentile of cdf for comparison\n",
    "print ('30 percentile:', inverted_edf(0.3))\n",
    "print ('60 percentile:', inverted_edf(0.6))\n",
    "print ('75 percentile:', inverted_edf(0.75))\n",
    "print ('80 percentile:', inverted_edf(0.8))\n",
    "pyplot.plot(x, y, 'ro', x, y, 'b-')\n",
    "pyplot.xlabel(\"F^-(X(t))\")\n",
    "pyplot.ylabel('X')\n",
    "pyplot.title(\"Inverse Empirical Cumulative Distribution Function for random_sample_1\")"
   ]
  },
  {
   "cell_type": "markdown",
   "id": "38098934-762c-4230-b670-e9c951390964",
   "metadata": {},
   "source": [
    "> **COMMENT**\n",
    "    It appears from the plots that both the functions are satisfying the properties of a CDF and Inverse CDF functions like Ranging from 0 to 1, Non- Decreasing and Right Continuous. Also the corresponding values \"P(x<=15): 0.150, P(x<=20): 0.600, P(x<=25): 0.850, P(x<=28): 1.000\" seems to match with there inverse \"30 percentile: 16.881795822402125, 60 percentile: 19.974238562412452, 75 percentile: 21.660666306034074, 80 percentile: 22.890655546445117\" approximately."
   ]
  },
  {
   "cell_type": "markdown",
   "id": "c4c3396c-efe6-4135-aa11-e274ab9f128b",
   "metadata": {},
   "source": [
    "### II) Simulating Discrete Random Variable\n",
    "#### *Here we take a random sample of a Discrete Integer Random Variable ranging from 0 to 9 and plot it's PMF and CDF*"
   ]
  },
  {
   "cell_type": "code",
   "execution_count": 8,
   "id": "84fa9759-c92a-4875-996d-4f71e82a097d",
   "metadata": {},
   "outputs": [
    {
     "data": {
      "image/png": "[encoded data removed]",
      "text/plain": [
       "<Figure size 432x288 with 1 Axes>"
      ]
     },
     "metadata": {
      "needs_background": "light"
     },
     "output_type": "display_data"
    }
   ],
   "source": [
    "data = [3,4,2,3,4,5,4,7,8,5,4,6,2,1,0,9,7,6,6,5,4,1,3,5,7,6,8,9,0,5,7,8,5,6,4,3,7,8,5,9]\n",
    "pyplot.hist(data,bins=9,density=True)\n",
    "pyplot.hist(data,bins=9, density=True, cumulative=True, histtype='step')\n",
    "pyplot.xlabel(\"X\")\n",
    "pyplot.ylabel(\"Probability\")\n",
    "pyplot.xticks(np.arange(0,10))\n",
    "pyplot.title(\"CDF and PMF Histogram Plot\")\n",
    "pyplot.show()"
   ]
  },
  {
   "cell_type": "markdown",
   "id": "a26f9898-81dd-469f-b9b1-58875407dd68",
   "metadata": {},
   "source": [
    ">**COMMENT**\n",
    "    Like mentioned previously the CDF maintains all the properties and the Histogram Plot is like a step function which is typical for a Discrete Random Variable"
   ]
  }
 ],
 "metadata": {
  "kernelspec": {
   "display_name": "Python 3",
   "language": "python",
   "name": "python3"
  },
  "language_info": {
   "codemirror_mode": {
    "name": "ipython",
    "version": 3
   },
   "file_extension": ".py",
   "mimetype": "text/x-python",
   "name": "python",
   "nbconvert_exporter": "python",
   "pygments_lexer": "ipython3",
   "version": "3.8.8"
  },
  "toc-autonumbering": false,
  "toc-showcode": false,
  "toc-showmarkdowntxt": false,
  "toc-showtags": false
 },
 "nbformat": 4,
 "nbformat_minor": 5
}
